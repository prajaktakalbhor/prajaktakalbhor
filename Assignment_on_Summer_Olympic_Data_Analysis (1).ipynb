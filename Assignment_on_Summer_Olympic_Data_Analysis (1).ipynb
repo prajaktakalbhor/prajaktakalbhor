{
  "nbformat": 4,
  "nbformat_minor": 0,
  "metadata": {
    "colab": {
      "name": "Assignment on Summer Olympic Data Analysis.ipynb",
      "provenance": [],
      "collapsed_sections": []
    },
    "kernelspec": {
      "name": "python3",
      "display_name": "Python 3"
    },
    "language_info": {
      "name": "python"
    }
  },
  "cells": [
    {
      "cell_type": "code",
      "metadata": {
        "id": "tZXi5VgLMv3e"
      },
      "source": [
        "import pandas as pd, numpy as np\n",
        "import seaborn as sns, matplotlib.pyplot as plt"
      ],
      "execution_count": null,
      "outputs": []
    },
    {
      "cell_type": "code",
      "metadata": {
        "id": "-g6brgxSTAMA"
      },
      "source": [
        "df=pd.read_csv(\"Summer Olympics.csv\")"
      ],
      "execution_count": 120,
      "outputs": []
    },
    {
      "cell_type": "code",
      "metadata": {
        "colab": {
          "base_uri": "https://localhost:8080/",
          "height": 204
        },
        "id": "pQo81JxQtLXA",
        "outputId": "38f1a71d-2027-4423-ab81-6758ac59fbd1"
      },
      "source": [
        "df.head()"
      ],
      "execution_count": null,
      "outputs": [
        {
          "output_type": "execute_result",
          "data": {
            "text/html": [
              "<div>\n",
              "<style scoped>\n",
              "    .dataframe tbody tr th:only-of-type {\n",
              "        vertical-align: middle;\n",
              "    }\n",
              "\n",
              "    .dataframe tbody tr th {\n",
              "        vertical-align: top;\n",
              "    }\n",
              "\n",
              "    .dataframe thead th {\n",
              "        text-align: right;\n",
              "    }\n",
              "</style>\n",
              "<table border=\"1\" class=\"dataframe\">\n",
              "  <thead>\n",
              "    <tr style=\"text-align: right;\">\n",
              "      <th></th>\n",
              "      <th>Year</th>\n",
              "      <th>City</th>\n",
              "      <th>Sport</th>\n",
              "      <th>Discipline</th>\n",
              "      <th>Athlete</th>\n",
              "      <th>Country</th>\n",
              "      <th>Gender</th>\n",
              "      <th>Event</th>\n",
              "      <th>Medal</th>\n",
              "    </tr>\n",
              "  </thead>\n",
              "  <tbody>\n",
              "    <tr>\n",
              "      <th>0</th>\n",
              "      <td>1896</td>\n",
              "      <td>Athens</td>\n",
              "      <td>Aquatics</td>\n",
              "      <td>Swimming</td>\n",
              "      <td>HAJOS, Alfred</td>\n",
              "      <td>HUN</td>\n",
              "      <td>Men</td>\n",
              "      <td>100M Freestyle</td>\n",
              "      <td>Gold</td>\n",
              "    </tr>\n",
              "    <tr>\n",
              "      <th>1</th>\n",
              "      <td>1896</td>\n",
              "      <td>Athens</td>\n",
              "      <td>Aquatics</td>\n",
              "      <td>Swimming</td>\n",
              "      <td>HERSCHMANN, Otto</td>\n",
              "      <td>AUT</td>\n",
              "      <td>Men</td>\n",
              "      <td>100M Freestyle</td>\n",
              "      <td>Silver</td>\n",
              "    </tr>\n",
              "    <tr>\n",
              "      <th>2</th>\n",
              "      <td>1896</td>\n",
              "      <td>Athens</td>\n",
              "      <td>Aquatics</td>\n",
              "      <td>Swimming</td>\n",
              "      <td>DRIVAS, Dimitrios</td>\n",
              "      <td>GRE</td>\n",
              "      <td>Men</td>\n",
              "      <td>100M Freestyle For Sailors</td>\n",
              "      <td>Bronze</td>\n",
              "    </tr>\n",
              "    <tr>\n",
              "      <th>3</th>\n",
              "      <td>1896</td>\n",
              "      <td>Athens</td>\n",
              "      <td>Aquatics</td>\n",
              "      <td>Swimming</td>\n",
              "      <td>MALOKINIS, Ioannis</td>\n",
              "      <td>GRE</td>\n",
              "      <td>Men</td>\n",
              "      <td>100M Freestyle For Sailors</td>\n",
              "      <td>Gold</td>\n",
              "    </tr>\n",
              "    <tr>\n",
              "      <th>4</th>\n",
              "      <td>1896</td>\n",
              "      <td>Athens</td>\n",
              "      <td>Aquatics</td>\n",
              "      <td>Swimming</td>\n",
              "      <td>CHASAPIS, Spiridon</td>\n",
              "      <td>GRE</td>\n",
              "      <td>Men</td>\n",
              "      <td>100M Freestyle For Sailors</td>\n",
              "      <td>Silver</td>\n",
              "    </tr>\n",
              "  </tbody>\n",
              "</table>\n",
              "</div>"
            ],
            "text/plain": [
              "   Year    City     Sport  ... Gender                       Event   Medal\n",
              "0  1896  Athens  Aquatics  ...    Men              100M Freestyle    Gold\n",
              "1  1896  Athens  Aquatics  ...    Men              100M Freestyle  Silver\n",
              "2  1896  Athens  Aquatics  ...    Men  100M Freestyle For Sailors  Bronze\n",
              "3  1896  Athens  Aquatics  ...    Men  100M Freestyle For Sailors    Gold\n",
              "4  1896  Athens  Aquatics  ...    Men  100M Freestyle For Sailors  Silver\n",
              "\n",
              "[5 rows x 9 columns]"
            ]
          },
          "metadata": {},
          "execution_count": 72
        }
      ]
    },
    {
      "cell_type": "code",
      "metadata": {
        "id": "jbO2QF2atZsF"
      },
      "source": [
        "Q.1. In how many cities Summer Olympics is held so far?"
      ],
      "execution_count": null,
      "outputs": []
    },
    {
      "cell_type": "markdown",
      "metadata": {
        "id": "mP1_v9gHtkTV"
      },
      "source": [
        "##Q.1. In how many cities Summer Olympics is held so far?\n"
      ]
    },
    {
      "cell_type": "code",
      "metadata": {
        "colab": {
          "base_uri": "https://localhost:8080/"
        },
        "id": "MSth7jPHWU5p",
        "outputId": "6e55233f-07d0-4f4a-9496-16054e9ebc4d"
      },
      "source": [
        "df[\"City\"].value_counts()\n"
      ],
      "execution_count": 131,
      "outputs": [
        {
          "output_type": "execute_result",
          "data": {
            "text/plain": [
              "London                   3567\n",
              "Athens                   2149\n",
              "Los Angeles              2074\n",
              "Beijing                  2042\n",
              "Sydney                   2015\n",
              "Atlanta                  1859\n",
              "Barcelona                1705\n",
              "Seoul                    1546\n",
              "Paris                    1396\n",
              "Moscow                   1387\n",
              "Montreal                 1305\n",
              "Antwerp                  1298\n",
              "Munich                   1185\n",
              "Mexico                   1031\n",
              "Tokyo                    1010\n",
              "Helsinki                  889\n",
              "Melbourne / Stockholm     885\n",
              "Stockholm                 885\n",
              "Rome                      882\n",
              "Berlin                    875\n",
              "Amsterdam                 710\n",
              "St Louis                  470\n",
              "Name: City, dtype: int64"
            ]
          },
          "metadata": {},
          "execution_count": 131
        }
      ]
    },
    {
      "cell_type": "code",
      "metadata": {
        "colab": {
          "base_uri": "https://localhost:8080/"
        },
        "id": "HnWMT5rsvs11",
        "outputId": "5f7087af-2338-4c50-d0db-eb6fe2fa3065"
      },
      "source": [
        "print(\"Number of Cites Summer Olympics Held:\",len(Data[\"City\"].unique()))"
      ],
      "execution_count": null,
      "outputs": [
        {
          "output_type": "stream",
          "name": "stdout",
          "text": [
            "Number of Cites Summer Olympics Held: 22\n"
          ]
        }
      ]
    },
    {
      "cell_type": "markdown",
      "metadata": {
        "id": "H3ZANxDPwIfc"
      },
      "source": [
        "##Q.2. Which sport is having most number of Gold Medals so far? (Top 5)"
      ]
    },
    {
      "cell_type": "code",
      "metadata": {
        "colab": {
          "base_uri": "https://localhost:8080/"
        },
        "id": "d37LqG9TwoBE",
        "outputId": "22c695c7-eb9c-4db7-e39c-fc5dd4f8fa29"
      },
      "source": [
        "data = df[df[\"Medal\"]==\"Gold\"]\n",
        "Gold = df.groupby('Sport').count()[\"Medal\"].sort_values(ascending = False).head()\n",
        "Gold"
      ],
      "execution_count": null,
      "outputs": [
        {
          "output_type": "execute_result",
          "data": {
            "text/plain": [
              "Sport\n",
              "Aquatics      4170\n",
              "Athletics     3638\n",
              "Rowing        2667\n",
              "Gymnastics    2307\n",
              "Fencing       1613\n",
              "Name: Medal, dtype: int64"
            ]
          },
          "metadata": {},
          "execution_count": 74
        }
      ]
    },
    {
      "cell_type": "code",
      "metadata": {
        "colab": {
          "base_uri": "https://localhost:8080/",
          "height": 355
        },
        "id": "ztZ2enAdwyAx",
        "outputId": "5f6b9a45-98f8-4d98-add5-9fa5da95b4ec"
      },
      "source": [
        "Gold.plot(kind=\"line\", figsize = (10,5), fontsize = 10)\n",
        "plt.title(\"Sport having most number of Gold Medals\", fontsize = 16)\n",
        "plt.xlabel(\"Sport\", fontsize = 13)\n",
        "plt.ylabel(\"Number of Gold Medals\", fontsize = 10)\n",
        "plt.show()"
      ],
      "execution_count": null,
      "outputs": [
        {
          "output_type": "display_data",
          "data": {
            "image/png": "[encoded data removed]",
            "text/plain": [
              "<Figure size 720x360 with 1 Axes>"
            ]
          },
          "metadata": {
            "needs_background": "light"
          }
        }
      ]
    },
    {
      "cell_type": "markdown",
      "metadata": {
        "id": "K3dQo5zPxHe3"
      },
      "source": [
        "##Q.3. Which sport is having most number of medals so far? (Top 5)"
      ]
    },
    {
      "cell_type": "code",
      "metadata": {
        "colab": {
          "base_uri": "https://localhost:8080/",
          "height": 382
        },
        "id": "t-HHcEg2xJfN",
        "outputId": "9682239a-f623-4b68-eb47-9c9fa8e94f31"
      },
      "source": [
        "data = []\n",
        "for sport in df['Sport'].unique():\n",
        "  data.append([sport, len(df[df['Sport'] == sport])])\n",
        "data = pd.DataFrame(data, columns = ['Sport','Medal']).head().sort_values(by = 'Medal', ascending = False).plot.bar(x = 'Sport', y = 'Medal',figsize = (10,5))"
      ],
      "execution_count": 132,
      "outputs": [
        {
          "output_type": "display_data",
          "data": {
            "image/png": "[encoded data removed]",
            "text/plain": [
              "<Figure size 720x360 with 1 Axes>"
            ]
          },
          "metadata": {
            "needs_background": "light"
          }
        }
      ]
    },
    {
      "cell_type": "markdown",
      "metadata": {
        "id": "J4J2biqi4ZEw"
      },
      "source": [
        "##Q.4. Which player has won most number of medals? (Top 5)"
      ]
    },
    {
      "cell_type": "code",
      "metadata": {
        "colab": {
          "base_uri": "https://localhost:8080/",
          "height": 386
        },
        "id": "xup3tGWu4c2n",
        "outputId": "69ab7dfd-174e-4497-8a32-1709fe1334fa"
      },
      "source": [
        "data=[]\n",
        "for i in df['Athlete'].unique():\n",
        "  data.append([i, len(df[df['Athlete']==i])])\n",
        "pd.DataFrame(data, columns = ['Athlete','Medal']).head().sort_values(by = \"Medal\" , ascending = False).plot(x = 'Athlete' , y = 'Medal' , kind = 'bar')"
      ],
      "execution_count": null,
      "outputs": [
        {
          "output_type": "execute_result",
          "data": {
            "text/plain": [
              "<matplotlib.axes._subplots.AxesSubplot at 0x7f24bc9d63d0>"
            ]
          },
          "metadata": {},
          "execution_count": 85
        },
        {
          "output_type": "display_data",
          "data": {
            "image/png": "[encoded data removed]",
            "text/plain": [
              "<Figure size 432x288 with 1 Axes>"
            ]
          },
          "metadata": {
            "needs_background": "light"
          }
        }
      ]
    },
    {
      "cell_type": "markdown",
      "metadata": {
        "id": "ueErl1HuB-_O"
      },
      "source": [
        "## Q.5. Which player has won most number Gold Medals of medals? (Top 5)"
      ]
    },
    {
      "cell_type": "code",
      "metadata": {
        "colab": {
          "base_uri": "https://localhost:8080/",
          "height": 420
        },
        "id": "hq7qsPnfCL9r",
        "outputId": "edcec16a-5b37-455d-c776-4d526ee7e716"
      },
      "source": [
        "import pandas as pd\n",
        "\n",
        "gold=df[df['Medal']=='Gold']\n",
        "data=[]\n",
        "for Athlete in gold['Athlete'].unique():\n",
        "  data.append([Athlete,len(gold[gold['Athlete']==Athlete])])\n",
        "data=pd.DataFrame(data,columns=['Athlete','Medal']).head().sort_values(by='Medal', ascending = False).plot.bar(x='Athlete',y='Medal',figsize=(10,5))\n"
      ],
      "execution_count": 107,
      "outputs": [
        {
          "output_type": "display_data",
          "data": {
            "image/png": "[encoded data removed]",
            "text/plain": [
              "<Figure size 720x360 with 1 Axes>"
            ]
          },
          "metadata": {
            "needs_background": "light"
          }
        }
      ]
    },
    {
      "cell_type": "markdown",
      "metadata": {
        "id": "2YOO4xt1DiA1"
      },
      "source": [
        "##Q.6. In which year India won first Gold Medal in Summer Olympics?\n"
      ]
    },
    {
      "cell_type": "code",
      "metadata": {
        "colab": {
          "base_uri": "https://localhost:8080/"
        },
        "id": "9bb4anfhFPUT",
        "outputId": "a22bd802-aa9b-4053-a59e-7d1b493a7f62"
      },
      "source": [
        "Gold_India = df[df[\"Medal\"]==\"Gold\"]\n",
        "Gold_India = Gold_India[Gold_India[\"Country\"]==\"IND\"]\n",
        "Gold_India\n",
        "print(\"India won first Gold Medal in Summer Olympics:\", Gold_India[\"Year\"].min())"
      ],
      "execution_count": 115,
      "outputs": [
        {
          "output_type": "stream",
          "name": "stdout",
          "text": [
            "India won first Gold Medal in Summer Olympics: 1928\n"
          ]
        }
      ]
    },
    {
      "cell_type": "markdown",
      "metadata": {
        "id": "Md6a1uIiFY8a"
      },
      "source": [
        "##Q.7. Which event is most popular in terms on number of players? (Top 5)"
      ]
    },
    {
      "cell_type": "code",
      "metadata": {
        "colab": {
          "base_uri": "https://localhost:8080/",
          "height": 377
        },
        "id": "b4fEfscJFeli",
        "outputId": "52ebaf89-44c4-4204-84bf-54f9fc34b285"
      },
      "source": [
        "import pandas as pd\n",
        "data=[]\n",
        "for Event in df['Event'].unique():\n",
        "  data.append([Event , len(df[df['Event']== Event])])\n",
        "pd.DataFrame(data,columns = ['Event','popular']).sort_values(by='popular',ascending=False).head().plot(x='Event',y='popular',kind='bar')"
      ],
      "execution_count": 127,
      "outputs": [
        {
          "output_type": "execute_result",
          "data": {
            "text/plain": [
              "<matplotlib.axes._subplots.AxesSubplot at 0x7f24bc243450>"
            ]
          },
          "metadata": {},
          "execution_count": 127
        },
        {
          "output_type": "display_data",
          "data": {
            "image/png": "[encoded data removed]",
            "text/plain": [
              "<Figure size 432x288 with 1 Axes>"
            ]
          },
          "metadata": {
            "needs_background": "light"
          }
        }
      ]
    },
    {
      "cell_type": "markdown",
      "metadata": {
        "id": "AL5tX3LCHkf8"
      },
      "source": [
        "##Q.8. Which sport is having most female Gold Medalists? (Top 5)"
      ]
    },
    {
      "cell_type": "code",
      "metadata": {
        "colab": {
          "base_uri": "https://localhost:8080/"
        },
        "id": "ANa_2r02HofL",
        "outputId": "df97446c-d545-4497-be26-5d912261652c"
      },
      "source": [
        "Gold_female = df[df[\"Medal\"]==\"Gold\"]\n",
        "Gold_female = Gold_female[Gold_female[\"Gender\"]==\"Women\"]\n",
        "Gold_female\n",
        "Gold_F = Gold_female.groupby('Sport').count()['Medal'].sort_values(ascending = False).head()\n",
        "Gold_F"
      ],
      "execution_count": 128,
      "outputs": [
        {
          "output_type": "execute_result",
          "data": {
            "text/plain": [
              "Sport\n",
              "Aquatics      589\n",
              "Athletics     389\n",
              "Gymnastics    268\n",
              "Rowing        217\n",
              "Volleyball    166\n",
              "Name: Medal, dtype: int64"
            ]
          },
          "metadata": {},
          "execution_count": 128
        }
      ]
    },
    {
      "cell_type": "code",
      "metadata": {
        "id": "M6SvLdelHyyS"
      },
      "source": [
        ""
      ],
      "execution_count": null,
      "outputs": []
    }
  ]
}