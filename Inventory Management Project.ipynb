{
 "cells": [
  {
   "cell_type": "markdown",
   "id": "2b506bea",
   "metadata": {},
   "source": [
    "# # Menu\n"
   ]
  },
  {
   "cell_type": "code",
   "execution_count": 3,
   "id": "32753e2e",
   "metadata": {},
   "outputs": [],
   "source": [
    "import os,json,time\n",
    "from random import random\n",
    "Records= { 1:{ \"name \":\"Cake\" , \"Price\":150 ,\"Qn\":50, \"Manf_date\" : \"15_nov_2020\" , \"Exp_date\" : \"16_dec_2020\"},\n",
    "         2:{ \"name \":\"Cookie\" , \"Price\":15 ,\"Qn\":50, \"Manf_date\" : \"15_nov_2020\" , \"Exp_date\" : \"15_april_2021\"},\n",
    "         3:{\"name \":\"Biscuit\" , \"Price\":10,\"Qn\":75, \"Manf_date\" : \"10_aug_2020\" , \"Exp_date\" : \"10_feb_2021\"},\n",
    "         4:{\"name \":\"Butter\" , \"Price\":15 ,\"Qn\":50, \"Manf_date\" : \"20_dec_2020\" , \"Exp_date\" : \"30_dec_2020\"},\n",
    "         5:{\"name \":\"Chips\" , \"Price\":20 ,\"Qn\":75, \"Manf_date\" : \"5_sep_2020\" , \"Exp_date\" : \"20_dec_2020\"},\n",
    "         6:{\"name \":\"Pestries\" , \"Price\":50 ,\"Qn\":50, \"Manf_date\" : \"15_nov_2020\" , \"Exp_date\" : \"16_dec_2020\"} ,\n",
    "         7:{\"name \":\"Peanut_butter\" , \"Price\":100 ,\"Qn\":20, \"Manf_date\" : \"1_dec_2020\" , \"Exp_date\" : \"15_april_2021\"},\n",
    "         8:{\"name \":\"Bread\" , \"Price\":30 ,\"Qn\":40, \"Manf_date\" : \"25_nov_2020\" , \"Exp_date\" : \"30_nov_2021\"},\n",
    "         9:{\"name \":\"Nankatai\" , \"Price\":25 ,\"Qn\":70, \"Manf_date\" : \"15_nov_2020\" , \"Exp_date\" : \"15_dec_2020\"},\n",
    "         10:{\"name \":\"Kurkure\" , \"Price\":15 ,\"Qn\":75, \"Manf_date\" : \"5_sep_2020\" , \"Exp_date\" : \"20_dec_2020\"},\n",
    "         11:{\"name \":\"Icecream\" , \"Price\":30,\"Qn\":100, \"Manf_date\" : \"1_nov_2020\" , \"Exp_date\" : \"2_dec_2020\"},\n",
    "         12:{\"name \":\"Kulfi\" , \"Price\":15 ,\"Qn\":100, \"Manf_date\" : \"1_nov_2020\" , \"Exp_date\" : \"2_dec_2020\"},\n",
    "         13:{\"name \":\"Milk\" , \"Price\":10 ,\"Qn\":25, \"Manf_date\" : \"20_nov_2020\" , \"Exp_date\" : \"25_nov_2020\"},\n",
    "         14:{\"name \":\"Toast\" , \"Price\":20 ,\"Qn\":50, \"Manf_date\" : \"15_nov_2020\" , \"Exp_date\" : \"15_jan_2021\"},\n",
    "         15:{\"name \":\"Fruity\" , \"Price\":15 ,\"Qn\":50, \"Manf_date\" : \"10_nov_2020\" , \"Exp_date\" : \"10_dec_2020\"},\n",
    "         16:{\"name \":\"Dahi\" , \"Price\":20 ,\"Qn\":50, \"Manf_date\" : \"20_nov_2020\" , \"Exp_date\" : \"25_nov_2020\"},\n",
    "         17:{\"name \":\"Lassi\" , \"Price\":15 ,\"Qn\":50, \"Manf_date\" : \"10_nov_2020\" , \"Exp_date\" : \"10_dec_2020\"},\n",
    "         18:{\"name \":\"Fruity\" , \"Price\":15 ,\"Qn\":50, \"Manf_date\" : \"10_nov_2020\" , \"Exp_date\" : \"10_jan_2021\"},\n",
    "         19:{\"name \":\"Chocolate_snack\" , \"Price\":35 ,\"Qn\":50, \"Manf_date\" : \"1_nov_2020\" , \"Exp_date\" : \"1_dec_2020\"},\n",
    "         20:{\"name \":\"Creamrolls\" , \"Price\":15 ,\"Qn\":50, \"Manf_date\" : \"1_nov_2020\" , \"Exp_date\" : \"1_dec_2020\"},\n",
    "         21:{\"name \":\"Pies\" , \"Price\":15 ,\"Qn\":50, \"Manf_date\" : \"1_nov_2020\" , \"Exp_date\" : \"1_dec_2020\"},\n",
    "         22:{\"name \":\"Bagels\" , \"Price\":30 ,\"Qn\":50, \"Manf_date\" : \"5_nov_2020\" , \"Exp_date\" : \"25_nov_2020\"},\n",
    "         23:{\"name \":\"Egg_bread\" , \"Price\":20 ,\"Qn\":50, \"Manf_date\" : \"15_oct_2020\" , \"Exp_date\" : \"20_nov_2020\"},\n",
    "         24:{\"name \":\"Donut\" , \"Price\":15 ,\"Qn\":50, \"Manf_date\" : \"10_nov_2020\" , \"Exp_date\" : \"20_nov_2020\"},\n",
    "         25:{\"name \":\"Pies\" , \"Price\":15 ,\"Qn\":50, \"Manf_date\" : \"1_nov_2020\" , \"Exp_date\" : \"1_dec_2020\"},\n",
    "         26:{\"name \":\"Khari\" , \"Price\":20 ,\"Qn\":50, \"Manf_date\" : \"15_nov_2020\" , \"Exp_date\" : \"15_jan_2021\"},\n",
    "         27:{\"name \":\"Pies\" , \"Price\":15 ,\"Qn\":50, \"Manf_date\" : \"1_nov_2020\" , \"Exp_date\" : \"1_dec_2020\"},\n",
    "         28:{\"name \":\"Sweet_rolls\" , \"Price\":20 ,\"Qn\":50, \"Manf_date\" : \"2_nov_2020\" , \"Exp_date\" : \"9_nov_2020\"},\n",
    "         29:{\"name \":\"Pies\" , \"Price\":15 ,\"Qn\":50, \"Manf_date\" : \"1_nov_2020\" , \"Exp_date\" : \"1_dec_2020\"},\n",
    "         30:{\"name \":\"Danish\" , \"Price\":25 ,\"Qn\":75, \"Manf_date\" : \"5_nov_2020\" , \"Exp_date\" : \"15_nov_2020\"}}"
   ]
  },
  {
   "cell_type": "code",
   "execution_count": 4,
   "id": "4ef8325a",
   "metadata": {},
   "outputs": [
    {
     "name": "stdout",
     "output_type": "stream",
     "text": [
      "<class 'str'>\n"
     ]
    },
    {
     "data": {
      "text/plain": [
       "'{\"1\": {\"name \": \"Cake\", \"Price\": 150, \"Qn\": 50, \"Manf_date\": \"15_nov_2020\", \"Exp_date\": \"16_dec_2020\"}, \"2\": {\"name \": \"Cookie\", \"Price\": 15, \"Qn\": 50, \"Manf_date\": \"15_nov_2020\", \"Exp_date\": \"15_april_2021\"}, \"3\": {\"name \": \"Biscuit\", \"Price\": 10, \"Qn\": 75, \"Manf_date\": \"10_aug_2020\", \"Exp_date\": \"10_feb_2021\"}, \"4\": {\"name \": \"Butter\", \"Price\": 15, \"Qn\": 50, \"Manf_date\": \"20_dec_2020\", \"Exp_date\": \"30_dec_2020\"}, \"5\": {\"name \": \"Chips\", \"Price\": 20, \"Qn\": 75, \"Manf_date\": \"5_sep_2020\", \"Exp_date\": \"20_dec_2020\"}, \"6\": {\"name \": \"Pestries\", \"Price\": 50, \"Qn\": 50, \"Manf_date\": \"15_nov_2020\", \"Exp_date\": \"16_dec_2020\"}, \"7\": {\"name \": \"Peanut_butter\", \"Price\": 100, \"Qn\": 20, \"Manf_date\": \"1_dec_2020\", \"Exp_date\": \"15_april_2021\"}, \"8\": {\"name \": \"Bread\", \"Price\": 30, \"Qn\": 40, \"Manf_date\": \"25_nov_2020\", \"Exp_date\": \"30_nov_2021\"}, \"9\": {\"name \": \"Nankatai\", \"Price\": 25, \"Qn\": 70, \"Manf_date\": \"15_nov_2020\", \"Exp_date\": \"15_dec_2020\"}, \"10\": {\"name \": \"Kurkure\", \"Price\": 15, \"Qn\": 75, \"Manf_date\": \"5_sep_2020\", \"Exp_date\": \"20_dec_2020\"}, \"11\": {\"name \": \"Icecream\", \"Price\": 30, \"Qn\": 100, \"Manf_date\": \"1_nov_2020\", \"Exp_date\": \"2_dec_2020\"}, \"12\": {\"name \": \"Kulfi\", \"Price\": 15, \"Qn\": 100, \"Manf_date\": \"1_nov_2020\", \"Exp_date\": \"2_dec_2020\"}, \"13\": {\"name \": \"Milk\", \"Price\": 10, \"Qn\": 25, \"Manf_date\": \"20_nov_2020\", \"Exp_date\": \"25_nov_2020\"}, \"14\": {\"name \": \"Toast\", \"Price\": 20, \"Qn\": 50, \"Manf_date\": \"15_nov_2020\", \"Exp_date\": \"15_jan_2021\"}, \"15\": {\"name \": \"Fruity\", \"Price\": 15, \"Qn\": 50, \"Manf_date\": \"10_nov_2020\", \"Exp_date\": \"10_dec_2020\"}, \"16\": {\"name \": \"Dahi\", \"Price\": 20, \"Qn\": 50, \"Manf_date\": \"20_nov_2020\", \"Exp_date\": \"25_nov_2020\"}, \"17\": {\"name \": \"Lassi\", \"Price\": 15, \"Qn\": 50, \"Manf_date\": \"10_nov_2020\", \"Exp_date\": \"10_dec_2020\"}, \"18\": {\"name \": \"Fruity\", \"Price\": 15, \"Qn\": 50, \"Manf_date\": \"10_nov_2020\", \"Exp_date\": \"10_jan_2021\"}, \"19\": {\"name \": \"Chocolate_snack\", \"Price\": 35, \"Qn\": 50, \"Manf_date\": \"1_nov_2020\", \"Exp_date\": \"1_dec_2020\"}, \"20\": {\"name \": \"Creamrolls\", \"Price\": 15, \"Qn\": 50, \"Manf_date\": \"1_nov_2020\", \"Exp_date\": \"1_dec_2020\"}, \"21\": {\"name \": \"Pies\", \"Price\": 15, \"Qn\": 50, \"Manf_date\": \"1_nov_2020\", \"Exp_date\": \"1_dec_2020\"}, \"22\": {\"name \": \"Bagels\", \"Price\": 30, \"Qn\": 50, \"Manf_date\": \"5_nov_2020\", \"Exp_date\": \"25_nov_2020\"}, \"23\": {\"name \": \"Egg_bread\", \"Price\": 20, \"Qn\": 50, \"Manf_date\": \"15_oct_2020\", \"Exp_date\": \"20_nov_2020\"}, \"24\": {\"name \": \"Donut\", \"Price\": 15, \"Qn\": 50, \"Manf_date\": \"10_nov_2020\", \"Exp_date\": \"20_nov_2020\"}, \"25\": {\"name \": \"Pies\", \"Price\": 15, \"Qn\": 50, \"Manf_date\": \"1_nov_2020\", \"Exp_date\": \"1_dec_2020\"}, \"26\": {\"name \": \"Khari\", \"Price\": 20, \"Qn\": 50, \"Manf_date\": \"15_nov_2020\", \"Exp_date\": \"15_jan_2021\"}, \"27\": {\"name \": \"Pies\", \"Price\": 15, \"Qn\": 50, \"Manf_date\": \"1_nov_2020\", \"Exp_date\": \"1_dec_2020\"}, \"28\": {\"name \": \"Sweet_rolls\", \"Price\": 20, \"Qn\": 50, \"Manf_date\": \"2_nov_2020\", \"Exp_date\": \"9_nov_2020\"}, \"29\": {\"name \": \"Pies\", \"Price\": 15, \"Qn\": 50, \"Manf_date\": \"1_nov_2020\", \"Exp_date\": \"1_dec_2020\"}, \"30\": {\"name \": \"Danish\", \"Price\": 25, \"Qn\": 75, \"Manf_date\": \"5_nov_2020\", \"Exp_date\": \"15_nov_2020\"}}'"
      ]
     },
     "execution_count": 4,
     "metadata": {},
     "output_type": "execute_result"
    }
   ],
   "source": [
    "js = json.dumps(Records)\n",
    "print (type(js))\n",
    "js"
   ]
  },
  {
   "cell_type": "code",
   "execution_count": 5,
   "id": "bc9b9522",
   "metadata": {},
   "outputs": [],
   "source": [
    "fd = open(\"Records.json\",\"w\")\n",
    "fd.write(js)\n",
    "fd.close()"
   ]
  },
  {
   "cell_type": "code",
   "execution_count": 6,
   "id": "35e5b156",
   "metadata": {},
   "outputs": [],
   "source": [
    "fd = open(\"Records.json\",\"r\")\n",
    "txt=fd.read()\n",
    "fd.close()"
   ]
  },
  {
   "cell_type": "code",
   "execution_count": 7,
   "id": "734afcce",
   "metadata": {},
   "outputs": [
    {
     "data": {
      "text/plain": [
       "'{\"1\": {\"name \": \"Cake\", \"Price\": 150, \"Qn\": 50, \"Manf_date\": \"15_nov_2020\", \"Exp_date\": \"16_dec_2020\"}, \"2\": {\"name \": \"Cookie\", \"Price\": 15, \"Qn\": 50, \"Manf_date\": \"15_nov_2020\", \"Exp_date\": \"15_april_2021\"}, \"3\": {\"name \": \"Biscuit\", \"Price\": 10, \"Qn\": 75, \"Manf_date\": \"10_aug_2020\", \"Exp_date\": \"10_feb_2021\"}, \"4\": {\"name \": \"Butter\", \"Price\": 15, \"Qn\": 50, \"Manf_date\": \"20_dec_2020\", \"Exp_date\": \"30_dec_2020\"}, \"5\": {\"name \": \"Chips\", \"Price\": 20, \"Qn\": 75, \"Manf_date\": \"5_sep_2020\", \"Exp_date\": \"20_dec_2020\"}, \"6\": {\"name \": \"Pestries\", \"Price\": 50, \"Qn\": 50, \"Manf_date\": \"15_nov_2020\", \"Exp_date\": \"16_dec_2020\"}, \"7\": {\"name \": \"Peanut_butter\", \"Price\": 100, \"Qn\": 20, \"Manf_date\": \"1_dec_2020\", \"Exp_date\": \"15_april_2021\"}, \"8\": {\"name \": \"Bread\", \"Price\": 30, \"Qn\": 40, \"Manf_date\": \"25_nov_2020\", \"Exp_date\": \"30_nov_2021\"}, \"9\": {\"name \": \"Nankatai\", \"Price\": 25, \"Qn\": 70, \"Manf_date\": \"15_nov_2020\", \"Exp_date\": \"15_dec_2020\"}, \"10\": {\"name \": \"Kurkure\", \"Price\": 15, \"Qn\": 75, \"Manf_date\": \"5_sep_2020\", \"Exp_date\": \"20_dec_2020\"}, \"11\": {\"name \": \"Icecream\", \"Price\": 30, \"Qn\": 100, \"Manf_date\": \"1_nov_2020\", \"Exp_date\": \"2_dec_2020\"}, \"12\": {\"name \": \"Kulfi\", \"Price\": 15, \"Qn\": 100, \"Manf_date\": \"1_nov_2020\", \"Exp_date\": \"2_dec_2020\"}, \"13\": {\"name \": \"Milk\", \"Price\": 10, \"Qn\": 25, \"Manf_date\": \"20_nov_2020\", \"Exp_date\": \"25_nov_2020\"}, \"14\": {\"name \": \"Toast\", \"Price\": 20, \"Qn\": 50, \"Manf_date\": \"15_nov_2020\", \"Exp_date\": \"15_jan_2021\"}, \"15\": {\"name \": \"Fruity\", \"Price\": 15, \"Qn\": 50, \"Manf_date\": \"10_nov_2020\", \"Exp_date\": \"10_dec_2020\"}, \"16\": {\"name \": \"Dahi\", \"Price\": 20, \"Qn\": 50, \"Manf_date\": \"20_nov_2020\", \"Exp_date\": \"25_nov_2020\"}, \"17\": {\"name \": \"Lassi\", \"Price\": 15, \"Qn\": 50, \"Manf_date\": \"10_nov_2020\", \"Exp_date\": \"10_dec_2020\"}, \"18\": {\"name \": \"Fruity\", \"Price\": 15, \"Qn\": 50, \"Manf_date\": \"10_nov_2020\", \"Exp_date\": \"10_jan_2021\"}, \"19\": {\"name \": \"Chocolate_snack\", \"Price\": 35, \"Qn\": 50, \"Manf_date\": \"1_nov_2020\", \"Exp_date\": \"1_dec_2020\"}, \"20\": {\"name \": \"Creamrolls\", \"Price\": 15, \"Qn\": 50, \"Manf_date\": \"1_nov_2020\", \"Exp_date\": \"1_dec_2020\"}, \"21\": {\"name \": \"Pies\", \"Price\": 15, \"Qn\": 50, \"Manf_date\": \"1_nov_2020\", \"Exp_date\": \"1_dec_2020\"}, \"22\": {\"name \": \"Bagels\", \"Price\": 30, \"Qn\": 50, \"Manf_date\": \"5_nov_2020\", \"Exp_date\": \"25_nov_2020\"}, \"23\": {\"name \": \"Egg_bread\", \"Price\": 20, \"Qn\": 50, \"Manf_date\": \"15_oct_2020\", \"Exp_date\": \"20_nov_2020\"}, \"24\": {\"name \": \"Donut\", \"Price\": 15, \"Qn\": 50, \"Manf_date\": \"10_nov_2020\", \"Exp_date\": \"20_nov_2020\"}, \"25\": {\"name \": \"Pies\", \"Price\": 15, \"Qn\": 50, \"Manf_date\": \"1_nov_2020\", \"Exp_date\": \"1_dec_2020\"}, \"26\": {\"name \": \"Khari\", \"Price\": 20, \"Qn\": 50, \"Manf_date\": \"15_nov_2020\", \"Exp_date\": \"15_jan_2021\"}, \"27\": {\"name \": \"Pies\", \"Price\": 15, \"Qn\": 50, \"Manf_date\": \"1_nov_2020\", \"Exp_date\": \"1_dec_2020\"}, \"28\": {\"name \": \"Sweet_rolls\", \"Price\": 20, \"Qn\": 50, \"Manf_date\": \"2_nov_2020\", \"Exp_date\": \"9_nov_2020\"}, \"29\": {\"name \": \"Pies\", \"Price\": 15, \"Qn\": 50, \"Manf_date\": \"1_nov_2020\", \"Exp_date\": \"1_dec_2020\"}, \"30\": {\"name \": \"Danish\", \"Price\": 25, \"Qn\": 75, \"Manf_date\": \"5_nov_2020\", \"Exp_date\": \"15_nov_2020\"}}'"
      ]
     },
     "execution_count": 7,
     "metadata": {},
     "output_type": "execute_result"
    }
   ],
   "source": [
    "txt"
   ]
  },
  {
   "cell_type": "code",
   "execution_count": 24,
   "id": "908570e1",
   "metadata": {},
   "outputs": [
    {
     "data": {
      "text/plain": [
       "['{\"1\": {\"name \": \"Cake\", \"Price\": 150, \"Qn\": 50, \"Manf_date\": \"15_nov_2020\", \"Exp_date\": \"16_dec_2020\"}, \"2\": {\"name \": \"Cookie\", \"Price\": 15, \"Qn\": 50, \"Manf_date\": \"15_nov_2020\", \"Exp_date\": \"15_april_2021\"}, \"3\": {\"name \": \"Biscuit\", \"Price\": 10, \"Qn\": 75, \"Manf_date\": \"10_aug_2020\", \"Exp_date\": \"10_feb_2021\"}, \"4\": {\"name \": \"Butter\", \"Price\": 15, \"Qn\": 50, \"Manf_date\": \"20_dec_2020\", \"Exp_date\": \"30_dec_2020\"}, \"5\": {\"name \": \"Chips\", \"Price\": 20, \"Qn\": 75, \"Manf_date\": \"5_sep_2020\", \"Exp_date\": \"20_dec_2020\"}, \"6\": {\"name \": \"Pestries\", \"Price\": 50, \"Qn\": 50, \"Manf_date\": \"15_nov_2020\", \"Exp_date\": \"16_dec_2020\"}, \"7\": {\"name \": \"Peanut_butter\", \"Price\": 100, \"Qn\": 20, \"Manf_date\": \"1_dec_2020\", \"Exp_date\": \"15_april_2021\"}, \"8\": {\"name \": \"Bread\", \"Price\": 30, \"Qn\": 40, \"Manf_date\": \"25_nov_2020\", \"Exp_date\": \"30_nov_2021\"}, \"9\": {\"name \": \"Nankatai\", \"Price\": 25, \"Qn\": 70, \"Manf_date\": \"15_nov_2020\", \"Exp_date\": \"15_dec_2020\"}, \"10\": {\"name \": \"Kurkure\", \"Price\": 15, \"Qn\": 75, \"Manf_date\": \"5_sep_2020\", \"Exp_date\": \"20_dec_2020\"}, \"11\": {\"name \": \"Icecream\", \"Price\": 30, \"Qn\": 100, \"Manf_date\": \"1_nov_2020\", \"Exp_date\": \"2_dec_2020\"}, \"12\": {\"name \": \"Kulfi\", \"Price\": 15, \"Qn\": 100, \"Manf_date\": \"1_nov_2020\", \"Exp_date\": \"2_dec_2020\"}, \"13\": {\"name \": \"Milk\", \"Price\": 10, \"Qn\": 25, \"Manf_date\": \"20_nov_2020\", \"Exp_date\": \"25_nov_2020\"}, \"14\": {\"name \": \"Toast\", \"Price\": 20, \"Qn\": 50, \"Manf_date\": \"15_nov_2020\", \"Exp_date\": \"15_jan_2021\"}, \"15\": {\"name \": \"Fruity\", \"Price\": 15, \"Qn\": 50, \"Manf_date\": \"10_nov_2020\", \"Exp_date\": \"10_dec_2020\"}, \"16\": {\"name \": \"Dahi\", \"Price\": 20, \"Qn\": 50, \"Manf_date\": \"20_nov_2020\", \"Exp_date\": \"25_nov_2020\"}, \"17\": {\"name \": \"Lassi\", \"Price\": 15, \"Qn\": 50, \"Manf_date\": \"10_nov_2020\", \"Exp_date\": \"10_dec_2020\"}, \"18\": {\"name \": \"Fruity\", \"Price\": 15, \"Qn\": 50, \"Manf_date\": \"10_nov_2020\", \"Exp_date\": \"10_jan_2021\"}, \"19\": {\"name \": \"Chocolate_snack\", \"Price\": 35, \"Qn\": 50, \"Manf_date\": \"1_nov_2020\", \"Exp_date\": \"1_dec_2020\"}, \"20\": {\"name \": \"Creamrolls\", \"Price\": 15, \"Qn\": 50, \"Manf_date\": \"1_nov_2020\", \"Exp_date\": \"1_dec_2020\"}, \"21\": {\"name \": \"Pies\", \"Price\": 15, \"Qn\": 50, \"Manf_date\": \"1_nov_2020\", \"Exp_date\": \"1_dec_2020\"}, \"22\": {\"name \": \"Bagels\", \"Price\": 30, \"Qn\": 50, \"Manf_date\": \"5_nov_2020\", \"Exp_date\": \"25_nov_2020\"}, \"23\": {\"name \": \"Egg_bread\", \"Price\": 20, \"Qn\": 50, \"Manf_date\": \"15_oct_2020\", \"Exp_date\": \"20_nov_2020\"}, \"24\": {\"name \": \"Donut\", \"Price\": 15, \"Qn\": 50, \"Manf_date\": \"10_nov_2020\", \"Exp_date\": \"20_nov_2020\"}, \"25\": {\"name \": \"Pies\", \"Price\": 15, \"Qn\": 50, \"Manf_date\": \"1_nov_2020\", \"Exp_date\": \"1_dec_2020\"}, \"26\": {\"name \": \"Khari\", \"Price\": 20, \"Qn\": 50, \"Manf_date\": \"15_nov_2020\", \"Exp_date\": \"15_jan_2021\"}, \"27\": {\"name \": \"Pies\", \"Price\": 15, \"Qn\": 50, \"Manf_date\": \"1_nov_2020\", \"Exp_date\": \"1_dec_2020\"}, \"28\": {\"name \": \"Sweet_rolls\", \"Price\": 20, \"Qn\": 50, \"Manf_date\": \"2_nov_2020\", \"Exp_date\": \"9_nov_2020\"}, \"29\": {\"name \": \"Pies\", \"Price\": 15, \"Qn\": 50, \"Manf_date\": \"1_nov_2020\", \"Exp_date\": \"1_dec_2020\"}, \"30\": {\"name \": \"Danish\", \"Price\": 25, \"Qn\": 75, \"Manf_date\": \"5_nov_2020\", \"Exp_date\": \"15_nov_2020\"}}']"
      ]
     },
     "execution_count": 24,
     "metadata": {},
     "output_type": "execute_result"
    }
   ],
   "source": [
    "txt.split(\"  \")\n"
   ]
  },
  {
   "cell_type": "markdown",
   "id": "0f665e4b",
   "metadata": {},
   "source": [
    "## Adding new product"
   ]
  },
  {
   "cell_type": "code",
   "execution_count": 8,
   "id": "c4b966c2",
   "metadata": {},
   "outputs": [
    {
     "name": "stdout",
     "output_type": "stream",
     "text": [
      "Enter product id:31\n",
      "Enter name:Cadbury\n",
      "Enter price:50\n",
      "Enter quantity:50\n",
      "Enter Mannufacturing date:10_nov_2020\n",
      "Enter Expiry date:10_Dec_2021\n",
      "Your new product is added successfully.\n"
     ]
    }
   ],
   "source": [
    "prod_id = str(input(\"Enter product id:\"))\n",
    "name = str(input(\"Enter name:\"))\n",
    "price = int(input(\"Enter price:\"))\n",
    "qn = int(input(\"Enter quantity:\"))\n",
    "Manf_date = str(input(\"Enter Mannufacturing date:\"))\n",
    "Exp_date = str(input(\"Enter Expiry date:\"))\n",
    "\n",
    "\n",
    "Records[prod_id] = {'name': name, 'price': price, 'qn': qn,' Manf_date' : Manf_date ,'Exp_date' : Exp_date }\n",
    "\n",
    "js = json.dumps(Records)\n",
    "\n",
    "fd = open(\"Records.json\",'w')\n",
    "fd.write(js)\n",
    "fd.close()\n",
    "print(\"Your new product is added successfully.\")\n"
   ]
  },
  {
   "cell_type": "markdown",
   "id": "aef2fc51",
   "metadata": {},
   "source": [
    "# Purchase any product\n",
    "## Billing Procedure "
   ]
  },
  {
   "cell_type": "code",
   "execution_count": 9,
   "id": "fd4d49f8",
   "metadata": {},
   "outputs": [
    {
     "data": {
      "text/plain": [
       "{'1': {'name ': 'Cake',\n",
       "  'Price': 150,\n",
       "  'Qn': 50,\n",
       "  'Manf_date': '15_nov_2020',\n",
       "  'Exp_date': '16_dec_2020'},\n",
       " '2': {'name ': 'Cookie',\n",
       "  'Price': 15,\n",
       "  'Qn': 50,\n",
       "  'Manf_date': '15_nov_2020',\n",
       "  'Exp_date': '15_april_2021'},\n",
       " '3': {'name ': 'Biscuit',\n",
       "  'Price': 10,\n",
       "  'Qn': 75,\n",
       "  'Manf_date': '10_aug_2020',\n",
       "  'Exp_date': '10_feb_2021'},\n",
       " '4': {'name ': 'Butter',\n",
       "  'Price': 15,\n",
       "  'Qn': 50,\n",
       "  'Manf_date': '20_dec_2020',\n",
       "  'Exp_date': '30_dec_2020'},\n",
       " '5': {'name ': 'Chips',\n",
       "  'Price': 20,\n",
       "  'Qn': 75,\n",
       "  'Manf_date': '5_sep_2020',\n",
       "  'Exp_date': '20_dec_2020'},\n",
       " '6': {'name ': 'Pestries',\n",
       "  'Price': 50,\n",
       "  'Qn': 50,\n",
       "  'Manf_date': '15_nov_2020',\n",
       "  'Exp_date': '16_dec_2020'},\n",
       " '7': {'name ': 'Peanut_butter',\n",
       "  'Price': 100,\n",
       "  'Qn': 20,\n",
       "  'Manf_date': '1_dec_2020',\n",
       "  'Exp_date': '15_april_2021'},\n",
       " '8': {'name ': 'Bread',\n",
       "  'Price': 30,\n",
       "  'Qn': 40,\n",
       "  'Manf_date': '25_nov_2020',\n",
       "  'Exp_date': '30_nov_2021'},\n",
       " '9': {'name ': 'Nankatai',\n",
       "  'Price': 25,\n",
       "  'Qn': 70,\n",
       "  'Manf_date': '15_nov_2020',\n",
       "  'Exp_date': '15_dec_2020'},\n",
       " '10': {'name ': 'Kurkure',\n",
       "  'Price': 15,\n",
       "  'Qn': 75,\n",
       "  'Manf_date': '5_sep_2020',\n",
       "  'Exp_date': '20_dec_2020'},\n",
       " '11': {'name ': 'Icecream',\n",
       "  'Price': 30,\n",
       "  'Qn': 100,\n",
       "  'Manf_date': '1_nov_2020',\n",
       "  'Exp_date': '2_dec_2020'},\n",
       " '12': {'name ': 'Kulfi',\n",
       "  'Price': 15,\n",
       "  'Qn': 100,\n",
       "  'Manf_date': '1_nov_2020',\n",
       "  'Exp_date': '2_dec_2020'},\n",
       " '13': {'name ': 'Milk',\n",
       "  'Price': 10,\n",
       "  'Qn': 25,\n",
       "  'Manf_date': '20_nov_2020',\n",
       "  'Exp_date': '25_nov_2020'},\n",
       " '14': {'name ': 'Toast',\n",
       "  'Price': 20,\n",
       "  'Qn': 50,\n",
       "  'Manf_date': '15_nov_2020',\n",
       "  'Exp_date': '15_jan_2021'},\n",
       " '15': {'name ': 'Fruity',\n",
       "  'Price': 15,\n",
       "  'Qn': 50,\n",
       "  'Manf_date': '10_nov_2020',\n",
       "  'Exp_date': '10_dec_2020'},\n",
       " '16': {'name ': 'Dahi',\n",
       "  'Price': 20,\n",
       "  'Qn': 50,\n",
       "  'Manf_date': '20_nov_2020',\n",
       "  'Exp_date': '25_nov_2020'},\n",
       " '17': {'name ': 'Lassi',\n",
       "  'Price': 15,\n",
       "  'Qn': 50,\n",
       "  'Manf_date': '10_nov_2020',\n",
       "  'Exp_date': '10_dec_2020'},\n",
       " '18': {'name ': 'Fruity',\n",
       "  'Price': 15,\n",
       "  'Qn': 50,\n",
       "  'Manf_date': '10_nov_2020',\n",
       "  'Exp_date': '10_jan_2021'},\n",
       " '19': {'name ': 'Chocolate_snack',\n",
       "  'Price': 35,\n",
       "  'Qn': 50,\n",
       "  'Manf_date': '1_nov_2020',\n",
       "  'Exp_date': '1_dec_2020'},\n",
       " '20': {'name ': 'Creamrolls',\n",
       "  'Price': 15,\n",
       "  'Qn': 50,\n",
       "  'Manf_date': '1_nov_2020',\n",
       "  'Exp_date': '1_dec_2020'},\n",
       " '21': {'name ': 'Pies',\n",
       "  'Price': 15,\n",
       "  'Qn': 50,\n",
       "  'Manf_date': '1_nov_2020',\n",
       "  'Exp_date': '1_dec_2020'},\n",
       " '22': {'name ': 'Bagels',\n",
       "  'Price': 30,\n",
       "  'Qn': 50,\n",
       "  'Manf_date': '5_nov_2020',\n",
       "  'Exp_date': '25_nov_2020'},\n",
       " '23': {'name ': 'Egg_bread',\n",
       "  'Price': 20,\n",
       "  'Qn': 50,\n",
       "  'Manf_date': '15_oct_2020',\n",
       "  'Exp_date': '20_nov_2020'},\n",
       " '24': {'name ': 'Donut',\n",
       "  'Price': 15,\n",
       "  'Qn': 50,\n",
       "  'Manf_date': '10_nov_2020',\n",
       "  'Exp_date': '20_nov_2020'},\n",
       " '25': {'name ': 'Pies',\n",
       "  'Price': 15,\n",
       "  'Qn': 50,\n",
       "  'Manf_date': '1_nov_2020',\n",
       "  'Exp_date': '1_dec_2020'},\n",
       " '26': {'name ': 'Khari',\n",
       "  'Price': 20,\n",
       "  'Qn': 50,\n",
       "  'Manf_date': '15_nov_2020',\n",
       "  'Exp_date': '15_jan_2021'},\n",
       " '27': {'name ': 'Pies',\n",
       "  'Price': 15,\n",
       "  'Qn': 50,\n",
       "  'Manf_date': '1_nov_2020',\n",
       "  'Exp_date': '1_dec_2020'},\n",
       " '28': {'name ': 'Sweet_rolls',\n",
       "  'Price': 20,\n",
       "  'Qn': 50,\n",
       "  'Manf_date': '2_nov_2020',\n",
       "  'Exp_date': '9_nov_2020'},\n",
       " '29': {'name ': 'Pies',\n",
       "  'Price': 15,\n",
       "  'Qn': 50,\n",
       "  'Manf_date': '1_nov_2020',\n",
       "  'Exp_date': '1_dec_2020'},\n",
       " '30': {'name ': 'Danish',\n",
       "  'Price': 25,\n",
       "  'Qn': 75,\n",
       "  'Manf_date': '5_nov_2020',\n",
       "  'Exp_date': '15_nov_2020'},\n",
       " '31': {'name': 'Cadbury',\n",
       "  'price': 50,\n",
       "  'qn': 50,\n",
       "  ' Manf_date': '10_nov_2020',\n",
       "  'Exp_date': '10_Dec_2021'}}"
      ]
     },
     "execution_count": 9,
     "metadata": {},
     "output_type": "execute_result"
    }
   ],
   "source": [
    "import json\n",
    "js1 = json.loads(js)\n",
    "js1\n"
   ]
  },
  {
   "cell_type": "code",
   "execution_count": 10,
   "id": "b10b4484",
   "metadata": {},
   "outputs": [
    {
     "name": "stdout",
     "output_type": "stream",
     "text": [
      "Enter the prod_id: 12\n",
      "Enter the quantity: 2\n",
      "Product:  {'name ': 'Kulfi', 'Price': 15, 'Qn': 100, 'Manf_date': '1_nov_2020', 'Exp_date': '2_dec_2020'}\n",
      "*********************************\n",
      "Thank You Your Bill is :\n",
      "Billing Amount:  30\n",
      "Visit Again\n",
      "*********************************\n"
     ]
    }
   ],
   "source": [
    "ui_prod  = (input(\"Enter the prod_id: \"))\n",
    "ui_quant = int(input(\"Enter the quantity: \"))\n",
    "print(\"Product: \", js1[ui_prod])\n",
    "print(\"*********************************\")\n",
    "print(\"Thank You Your Bill is :\")\n",
    "print(\"Billing Amount: \", js1[ui_prod]['Price'] * ui_quant)\n",
    "print(\"Visit Again\")\n",
    "print(\"*********************************\")\n",
    "\n",
    "js1[ui_prod]['Qn'] = js1[ui_prod]['Qn'] - ui_quant"
   ]
  },
  {
   "cell_type": "markdown",
   "id": "da16fc59",
   "metadata": {},
   "source": [
    "# Deleting item"
   ]
  },
  {
   "cell_type": "markdown",
   "id": "4a95d6d4",
   "metadata": {},
   "source": [
    "# "
   ]
  },
  {
   "cell_type": "code",
   "execution_count": 11,
   "id": "25a7dad8",
   "metadata": {},
   "outputs": [
    {
     "name": "stdout",
     "output_type": "stream",
     "text": [
      "***************  DELETE ITEM  *************** \n",
      "\n",
      "\n",
      "Please Enter Key to be Deleted : 2\n",
      "\n",
      "Deleted Successfully\n"
     ]
    }
   ],
   "source": [
    "print(\"*\"*15, \" DELETE ITEM \", \"*\"*15,\"\\n\\n\")\n",
    "\n",
    "i1 = input(\"Please Enter Key to be Deleted : \")\n",
    "if (i1 in js1.keys()):\n",
    "    del js1[i1]\n",
    "    print(\"\\nDeleted Successfully\")\n",
    "    f = open('js1.json','w+')\n",
    "    a = json.dumps(js1)\n",
    "    f.write(a)\n",
    "    f.close()\n",
    "else: \n",
    "    print(\"\\nOops!!..Key not found\")\n",
    "    "
   ]
  },
  {
   "cell_type": "code",
   "execution_count": 12,
   "id": "f2ecc63b",
   "metadata": {},
   "outputs": [
    {
     "data": {
      "text/plain": [
       "'{\"1\": {\"name \": \"Cake\", \"Price\": 150, \"Qn\": 50, \"Manf_date\": \"15_nov_2020\", \"Exp_date\": \"16_dec_2020\"}, \"3\": {\"name \": \"Biscuit\", \"Price\": 10, \"Qn\": 75, \"Manf_date\": \"10_aug_2020\", \"Exp_date\": \"10_feb_2021\"}, \"4\": {\"name \": \"Butter\", \"Price\": 15, \"Qn\": 50, \"Manf_date\": \"20_dec_2020\", \"Exp_date\": \"30_dec_2020\"}, \"5\": {\"name \": \"Chips\", \"Price\": 20, \"Qn\": 75, \"Manf_date\": \"5_sep_2020\", \"Exp_date\": \"20_dec_2020\"}, \"6\": {\"name \": \"Pestries\", \"Price\": 50, \"Qn\": 50, \"Manf_date\": \"15_nov_2020\", \"Exp_date\": \"16_dec_2020\"}, \"7\": {\"name \": \"Peanut_butter\", \"Price\": 100, \"Qn\": 20, \"Manf_date\": \"1_dec_2020\", \"Exp_date\": \"15_april_2021\"}, \"8\": {\"name \": \"Bread\", \"Price\": 30, \"Qn\": 40, \"Manf_date\": \"25_nov_2020\", \"Exp_date\": \"30_nov_2021\"}, \"9\": {\"name \": \"Nankatai\", \"Price\": 25, \"Qn\": 70, \"Manf_date\": \"15_nov_2020\", \"Exp_date\": \"15_dec_2020\"}, \"10\": {\"name \": \"Kurkure\", \"Price\": 15, \"Qn\": 75, \"Manf_date\": \"5_sep_2020\", \"Exp_date\": \"20_dec_2020\"}, \"11\": {\"name \": \"Icecream\", \"Price\": 30, \"Qn\": 100, \"Manf_date\": \"1_nov_2020\", \"Exp_date\": \"2_dec_2020\"}, \"12\": {\"name \": \"Kulfi\", \"Price\": 15, \"Qn\": 98, \"Manf_date\": \"1_nov_2020\", \"Exp_date\": \"2_dec_2020\"}, \"13\": {\"name \": \"Milk\", \"Price\": 10, \"Qn\": 25, \"Manf_date\": \"20_nov_2020\", \"Exp_date\": \"25_nov_2020\"}, \"14\": {\"name \": \"Toast\", \"Price\": 20, \"Qn\": 50, \"Manf_date\": \"15_nov_2020\", \"Exp_date\": \"15_jan_2021\"}, \"15\": {\"name \": \"Fruity\", \"Price\": 15, \"Qn\": 50, \"Manf_date\": \"10_nov_2020\", \"Exp_date\": \"10_dec_2020\"}, \"16\": {\"name \": \"Dahi\", \"Price\": 20, \"Qn\": 50, \"Manf_date\": \"20_nov_2020\", \"Exp_date\": \"25_nov_2020\"}, \"17\": {\"name \": \"Lassi\", \"Price\": 15, \"Qn\": 50, \"Manf_date\": \"10_nov_2020\", \"Exp_date\": \"10_dec_2020\"}, \"18\": {\"name \": \"Fruity\", \"Price\": 15, \"Qn\": 50, \"Manf_date\": \"10_nov_2020\", \"Exp_date\": \"10_jan_2021\"}, \"19\": {\"name \": \"Chocolate_snack\", \"Price\": 35, \"Qn\": 50, \"Manf_date\": \"1_nov_2020\", \"Exp_date\": \"1_dec_2020\"}, \"20\": {\"name \": \"Creamrolls\", \"Price\": 15, \"Qn\": 50, \"Manf_date\": \"1_nov_2020\", \"Exp_date\": \"1_dec_2020\"}, \"21\": {\"name \": \"Pies\", \"Price\": 15, \"Qn\": 50, \"Manf_date\": \"1_nov_2020\", \"Exp_date\": \"1_dec_2020\"}, \"22\": {\"name \": \"Bagels\", \"Price\": 30, \"Qn\": 50, \"Manf_date\": \"5_nov_2020\", \"Exp_date\": \"25_nov_2020\"}, \"23\": {\"name \": \"Egg_bread\", \"Price\": 20, \"Qn\": 50, \"Manf_date\": \"15_oct_2020\", \"Exp_date\": \"20_nov_2020\"}, \"24\": {\"name \": \"Donut\", \"Price\": 15, \"Qn\": 50, \"Manf_date\": \"10_nov_2020\", \"Exp_date\": \"20_nov_2020\"}, \"25\": {\"name \": \"Pies\", \"Price\": 15, \"Qn\": 50, \"Manf_date\": \"1_nov_2020\", \"Exp_date\": \"1_dec_2020\"}, \"26\": {\"name \": \"Khari\", \"Price\": 20, \"Qn\": 50, \"Manf_date\": \"15_nov_2020\", \"Exp_date\": \"15_jan_2021\"}, \"27\": {\"name \": \"Pies\", \"Price\": 15, \"Qn\": 50, \"Manf_date\": \"1_nov_2020\", \"Exp_date\": \"1_dec_2020\"}, \"28\": {\"name \": \"Sweet_rolls\", \"Price\": 20, \"Qn\": 50, \"Manf_date\": \"2_nov_2020\", \"Exp_date\": \"9_nov_2020\"}, \"29\": {\"name \": \"Pies\", \"Price\": 15, \"Qn\": 50, \"Manf_date\": \"1_nov_2020\", \"Exp_date\": \"1_dec_2020\"}, \"30\": {\"name \": \"Danish\", \"Price\": 25, \"Qn\": 75, \"Manf_date\": \"5_nov_2020\", \"Exp_date\": \"15_nov_2020\"}, \"31\": {\"name\": \"Cadbury\", \"price\": 50, \"qn\": 50, \" Manf_date\": \"10_nov_2020\", \"Exp_date\": \"10_Dec_2021\"}}'"
      ]
     },
     "execution_count": 12,
     "metadata": {},
     "output_type": "execute_result"
    }
   ],
   "source": [
    "a"
   ]
  },
  {
   "cell_type": "code",
   "execution_count": null,
   "id": "787af980",
   "metadata": {},
   "outputs": [],
   "source": []
  }
 ],
 "metadata": {
  "kernelspec": {
   "display_name": "Python 3",
   "language": "python",
   "name": "python3"
  },
  "language_info": {
   "codemirror_mode": {
    "name": "ipython",
    "version": 3
   },
   "file_extension": ".py",
   "mimetype": "text/x-python",
   "name": "python",
   "nbconvert_exporter": "python",
   "pygments_lexer": "ipython3",
   "version": "3.8.8"
  }
 },
 "nbformat": 4,
 "nbformat_minor": 5
}
